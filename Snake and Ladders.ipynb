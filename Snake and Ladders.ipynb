{
 "cells": [
  {
   "cell_type": "code",
   "execution_count": 1,
   "id": "edeae5b3-3303-4233-90a8-6252c5a44b48",
   "metadata": {},
   "outputs": [
    {
     "name": "stdout",
     "output_type": "stream",
     "text": [
      "pygame 2.6.1 (SDL 2.28.4, Python 3.12.7)\n",
      "Hello from the pygame community. https://www.pygame.org/contribute.html\n"
     ]
    }
   ],
   "source": [
    "import pygame\n",
    "import random\n",
    "\n",
    "pygame.init()\n",
    "\n",
    "screen = pygame.display.set_mode((1200, 800))\n",
    "pygame.display.set_caption(\"Snake and Ladders\")\n",
    "icon = pygame.image.load('C:\\\\Users\\\\dekwx\\\\Downloads\\\\anaconda.png')\n",
    "pygame.display.set_icon(icon)\n",
    "                       \n",
    "bg = pygame.image.load(f'C:\\\\Users\\\\dekwx\\\\OneDrive\\\\Pictures\\\\AnyDesk\\\\Snake and Ladders Game Project\\\\Snake and ladders board.jpg')\n",
    "bg = pygame.transform.scale( bg, (1000, 800) )\n",
    "                        \n",
    "#Player\n",
    "storage_of_file_player = [ pygame.image.load(f'C:\\\\Users\\\\dekwx\\\\OneDrive\\\\Pictures\\\\AnyDesk\\\\Snake and Ladders Game Project\\\\rook {count}.png') for count in range(1,2+1) ]\n",
    "storage_of_file_dice_face = [ pygame.image.load(f'C:\\\\Users\\\\dekwx\\\\OneDrive\\\\Pictures\\\\AnyDesk\\\\Snake and Ladders Game Project\\\\Dice Faces {face}.jpg') \\\n",
    "                             for face in range(1,6+1) ] \n",
    "\n",
    "\n",
    "font = pygame.font.Font('freesansbold.ttf', 32)\n",
    "text_x = 1000\n",
    "text_y = 600\n",
    "\n",
    "\n",
    "class Player():\n",
    "    def __init__(self, name, player_file, player_x, player_y):\n",
    "        self.name = name\n",
    "        self.player_file = player_file\n",
    "        self.player_x = player_x\n",
    "        self.player_y = player_y\n",
    "        \n",
    "\n",
    "    def add_image_to_screen(self):\n",
    "        screen.blit( self.player_file, (self.player_x, self.player_y) )\n",
    "\n",
    "    def walk(self, change_x, change_y) :\n",
    "        screen.blit( self.player_file, (self.player_x + 1, self.player_y ))\n",
    "\n",
    "    def turn(self) :\n",
    "        return f'{self.name} Turn'\n",
    "        \n",
    "\n",
    "        \n",
    "#Transform size image\n",
    "storage_of_file_player = [ pygame.transform.scale(image_player ,(40, 50) ) for image_player in storage_of_file_player ]\n",
    "storage_of_file_dice_face = [ pygame.transform.scale(image_dice, (150, 150) ) for image_dice in storage_of_file_dice_face ]\n",
    "\n",
    "players = [] \n",
    "for index in range(len(storage_of_file_player)) :\n",
    "    if index == 0 :\n",
    "        players.append( Player(\"Human\", storage_of_file_player[0], 10 , 30) ) #y730 -> 660 -> 580 -> 500 -> 420 -> 340 -> 260 -> 180 -> 100 -> 30 \n",
    "    if index == 1 :\n",
    "        players.append( Player(\"Bot\", storage_of_file_player[1], 40, 730))  #45, 730\n",
    "\n",
    "def roll_the_dice():\n",
    "    return random.randint(1, 6)\n",
    "\n",
    "def show_turn():\n",
    "    pass\n",
    "    \n",
    "\n",
    "good_stage = { 3 : 45, 8 : 12, 14 : 26, 21 : 39, 31 : 73, 59 : 80, 83 : 97, 90 : 92 }\n",
    "bad_stage = { 11 : 6, 54 : 27, 57 : 2, 78 : 15, 89 : 85, 95 : 67 }\n",
    "move_up = { 730 : 660, 660 :580, 580 : 500, 500 : 420, 420 : 340, 340 :260, 260 : 180, 180 :100, 100 : 30 }\n",
    "\n",
    "running = True\n",
    "\n",
    "while running :\n",
    "    for event in pygame.event.get():\n",
    "        if event.type == pygame.QUIT:\n",
    "            running = False\n",
    "            pygame.quit()\n",
    "        else :\n",
    "            screen.fill( (192, 192, 192) )\n",
    "            screen.blit(bg, (0, 0))\n",
    "            players[0].add_image_to_screen()\n",
    "            players[1].add_image_to_screen()\n",
    "            screen.blit( storage_of_file_dice_face[0], (1025, 600) )\n",
    "            pygame.display.update()\n",
    "\n"
   ]
  },
  {
   "cell_type": "code",
   "execution_count": null,
   "id": "9e60e134-7813-47e8-b0f9-08d483bca467",
   "metadata": {},
   "outputs": [],
   "source": []
  },
  {
   "cell_type": "code",
   "execution_count": null,
   "id": "f0c33b3e-6ade-4976-829a-500d22494840",
   "metadata": {},
   "outputs": [],
   "source": []
  }
 ],
 "metadata": {
  "kernelspec": {
   "display_name": "Python 3 (ipykernel)",
   "language": "python",
   "name": "python3"
  },
  "language_info": {
   "codemirror_mode": {
    "name": "ipython",
    "version": 3
   },
   "file_extension": ".py",
   "mimetype": "text/x-python",
   "name": "python",
   "nbconvert_exporter": "python",
   "pygments_lexer": "ipython3",
   "version": "3.12.7"
  }
 },
 "nbformat": 4,
 "nbformat_minor": 5
}
